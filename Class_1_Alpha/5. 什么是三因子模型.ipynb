{
 "cells": [
  {
   "cell_type": "markdown",
   "metadata": {
    "collapsed": true
   },
   "source": [
    "## 5. 什么是三因子模型？"
   ]
  },
  {
   "cell_type": "markdown",
   "metadata": {},
   "source": [
    "## 目录\n",
    "1. 什么是三因子模型？\n",
    "2. 如何用优矿获取基本面数据？\n",
    "3. 如何用三因子模型回归最优股票组合？\n",
    "3. 如何将三因子模型可视化？"
   ]
  },
  {
   "cell_type": "markdown",
   "metadata": {},
   "source": [
    "## 什么是三因子模型？\n",
    "\n",
    "这三个因子一个叫贝塔，一个叫市值，一个叫估值。更简单地说，高贝塔，小盘股和低市净率的价值股会给你带来更好的回报。\n",
    "\n",
    "### 算法\n",
    "$R_p - R_r = \\beta  (R_M - R_r) + \\beta_1  HML + \\beta_2 * SMB + \\alpha + \\epsilon$\n",
    "\n",
    "HML 对应PB，将PB分成三档。最高的为成长性（H），最低的为价值型（L），高组收益率平均减去低组收益率平均；\n",
    "\n",
    "SMB 对应LCAP，将LCAP分成三档。最小的为小公司（S），最大的为大公司（B），小公司收益率平均减去大公司收益率平均。\n",
    "\n",
    "其中，收益率为月度收益。 Rp 是单只股票的月度收益率. RM是沪深300的月度收益率."
   ]
  },
  {
   "cell_type": "markdown",
   "metadata": {},
   "source": [
    "## 如何用优矿获取基本面数据？\n",
    "在优矿获取数据，并且保存为csv。\n",
    "\n",
    "具体可以参考： https://uqer.io/community/share/591a6b87df54d20056791a12\n",
    "\n",
    "### 主要难点：\n",
    "- 每个月计算一次SMB前后30%的股票组合的收益差\n",
    "- 每个月计算一次HML前后30%的股票组合的收益差"
   ]
  },
  {
   "cell_type": "code",
   "execution_count": 1,
   "metadata": {
    "collapsed": false
   },
   "outputs": [
    {
     "name": "stdout",
     "output_type": "stream",
     "text": [
      "                zglt      zsyh       opt     Index       SMB       HML\n",
      "datetime                                                              \n",
      "2015-01-30 -0.089369 -0.138124 -0.125399 -0.010018 -0.490852  0.319662\n",
      "2015-02-27  0.247500  0.022605  0.081302  0.028630  0.029983  0.046953\n",
      "2015-03-31 -0.034358  0.056684  0.032922  0.129692  0.056031 -0.022294\n",
      "2015-04-30  0.737902  0.167699  0.316522  0.182605 -0.087374 -0.092583\n",
      "2015-05-29 -0.101239 -0.010733 -0.034355  0.035794 -0.029132  0.191970\n"
     ]
    }
   ],
   "source": [
    "# 读取获取后数据\n",
    "import pandas as pd\n",
    "import numpy as np\n",
    "\n",
    "Three_Factors = pd.read_csv('D:\\\\PycharmProjects\\\\finance_data\\\\Three_Factors.csv')\n",
    "Three_Factors.rename(columns={'Unnamed: 0': 'datetime'}, inplace=True)\n",
    "Three_Factors.index = Three_Factors.datetime\n",
    "Three_Factors.pop('datetime')\n",
    "print Three_Factors.head()"
   ]
  },
  {
   "cell_type": "markdown",
   "metadata": {},
   "source": [
    "## 如何用三因子模型回归最优股票组合？"
   ]
  },
  {
   "cell_type": "code",
   "execution_count": 2,
   "metadata": {
    "collapsed": false
   },
   "outputs": [
    {
     "name": "stdout",
     "output_type": "stream",
     "text": [
      "                            OLS Regression Results                            \n",
      "==============================================================================\n",
      "Dep. Variable:                    opt   R-squared:                       0.742\n",
      "Model:                            OLS   Adj. R-squared:                  0.703\n",
      "Method:                 Least Squares   F-statistic:                     19.15\n",
      "Date:                Tue, 16 May 2017   Prob (F-statistic):           4.26e-06\n",
      "Time:                        11:26:17   Log-Likelihood:                 38.678\n",
      "No. Observations:                  24   AIC:                            -69.36\n",
      "Df Residuals:                      20   BIC:                            -64.64\n",
      "Df Model:                           3                                         \n",
      "Covariance Type:            nonrobust                                         \n",
      "==============================================================================\n",
      "                 coef    std err          t      P>|t|      [0.025      0.975]\n",
      "------------------------------------------------------------------------------\n",
      "const          0.0114      0.011      1.018      0.321      -0.012       0.035\n",
      "Index          0.8706      0.124      7.027      0.000       0.612       1.129\n",
      "SMB           -0.0172      0.069     -0.251      0.804      -0.160       0.126\n",
      "HML           -0.4084      0.121     -3.369      0.003      -0.661      -0.156\n",
      "==============================================================================\n",
      "Omnibus:                        0.491   Durbin-Watson:                   2.219\n",
      "Prob(Omnibus):                  0.782   Jarque-Bera (JB):                0.339\n",
      "Skew:                           0.271   Prob(JB):                        0.844\n",
      "Kurtosis:                       2.786   Cond. No.                         12.1\n",
      "==============================================================================\n",
      "\n",
      "Warnings:\n",
      "[1] Standard Errors assume that the covariance matrix of the errors is correctly specified.\n"
     ]
    }
   ],
   "source": [
    "import statsmodels.api as sm\n",
    "import matplotlib.pyplot as plt\n",
    "\n",
    "X = Three_Factors.iloc[:, 3:]\n",
    "Y = Three_Factors.iloc[:, 2]\n",
    "X = sm.add_constant(X)\n",
    "model = sm.OLS(Y, X)\n",
    "result = model.fit()\n",
    "print result.summary()"
   ]
  },
  {
   "cell_type": "code",
   "execution_count": 4,
   "metadata": {
    "collapsed": false
   },
   "outputs": [
    {
     "name": "stdout",
     "output_type": "stream",
     "text": [
      "[ 0.87059051 -0.01723169 -0.40840239]\n"
     ]
    }
   ],
   "source": [
    "factors = pd.concat([Three_Factors.Index, Three_Factors.SMB, Three_Factors.HML],axis = 1).dropna()\n",
    "factors.columns = ['MARKET','SMB','HML']\n",
    "f_params = np.array(result.params[1:])\n",
    "print f_params"
   ]
  },
  {
   "cell_type": "code",
   "execution_count": 8,
   "metadata": {
    "collapsed": false
   },
   "outputs": [
    {
     "name": "stdout",
     "output_type": "stream",
     "text": [
      "[[ 0.00800866  0.00012928  0.00080461]\n",
      " [ 0.00012928  0.02913037 -0.00546511]\n",
      " [ 0.00080461 -0.00546511  0.00938857]]\n",
      "0.00699161966912\n",
      "0.00233201035387\n"
     ]
    }
   ],
   "source": [
    "#因子协方差\n",
    "cov_factors = np.cov(factors.T)\n",
    "print cov_factors\n",
    "\n",
    "## 得出因子方差与剩余风险的方差\n",
    "print np.dot(np.dot(f_params.T, cov_factors),f_params)\n",
    "\n",
    "print np.std(result.resid)**2"
   ]
  },
  {
   "cell_type": "markdown",
   "metadata": {},
   "source": [
    "## 如何将三因子模型可视化？"
   ]
  },
  {
   "cell_type": "code",
   "execution_count": 27,
   "metadata": {
    "collapsed": false
   },
   "outputs": [
    {
     "data": {
      "image/png": "[encoded data removed]",
      "text/plain": [
       "<matplotlib.figure.Figure at 0x59cfaf28>"
      ]
     },
     "metadata": {},
     "output_type": "display_data"
    }
   ],
   "source": [
    "factors_model = result.params[0]+result.params[1]*Three_Factors.Index + result.params[2]*Three_Factors.SMB\n",
    "+ result.params[3]*Three_Factors.HML\n",
    "\n",
    "factors_model.index = pd.to_datetime(factors_model.index, format='%Y-%m-%d')\n",
    "\n",
    "plt.plot(factors_model, label='Three_Factor_Model')\n",
    "plt.plot(Three_Factors.opt, label='OPT')\n",
    "plt.legend(loc='upper left')\n",
    "plt.show()"
   ]
  },
  {
   "cell_type": "markdown",
   "metadata": {},
   "source": [
    "## 作业\n",
    "学习如何从优矿获取基本面数据，并保存为csv，作为基本面数据研究。"
   ]
  }
 ],
 "metadata": {
  "kernelspec": {
   "display_name": "Python 2",
   "language": "python",
   "name": "python2"
  },
  "language_info": {
   "codemirror_mode": {
    "name": "ipython",
    "version": 2
   },
   "file_extension": ".py",
   "mimetype": "text/x-python",
   "name": "python",
   "nbconvert_exporter": "python",
   "pygments_lexer": "ipython2",
   "version": "2.7.13"
  }
 },
 "nbformat": 4,
 "nbformat_minor": 2
}
