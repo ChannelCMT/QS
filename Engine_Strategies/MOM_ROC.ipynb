{
 "cells": [
  {
   "cell_type": "code",
   "execution_count": null,
   "metadata": {
    "collapsed": true
   },
   "outputs": [],
   "source": [
    "#coding=utf-8\n",
    "# run_code_demo\n",
    "from rqalpha import run_code\n",
    "\n",
    "code = \"\"\"\n",
    "import rqalpha\n",
    "from rqalpha.api import *\n",
    "import talib\n",
    "\n",
    "def init(context):\n",
    "    context.s1 = \"000001.XSHE\"\n",
    "    context.PERIOD = 20\n",
    "    context.stoploss = 0.98\n",
    "    context.takeprofit = 2\n",
    "\n",
    "def stop_loss(context,bar_dict):\n",
    "    for stock in context.portfolio.positions:\n",
    "        if bar_dict[stock].last<context.portfolio.positions[stock].avg_price*context.stoploss:\n",
    "            order_target_percent(stock,0)\n",
    "        elif bar_dict[stock].last>context.portfolio.positions[stock].avg_price*context.takeprofit:\n",
    "            order_target_percent(stock,0)\n",
    "\n",
    "def handle_bar(context, bar_dict):\n",
    "    stop_loss(context, bar_dict)\n",
    "    prices = history_bars(context.s1, context.PERIOD+1, '1d', 'close')\n",
    "    volumes = history_bars(context.s1, context.PERIOD+1, '1d', 'volume')\n",
    "    WVAP_2 = (prices[:-1] * volumes[:-1]).sum()/volumes[:-1].sum()\n",
    "    WVAP_1 = (prices[1:] * volumes[1:]).sum()/volumes[1:].sum()\n",
    "\n",
    "    cur_position = context.portfolio.positions[context.s1].quantity\n",
    "    shares = context.portfolio.cash/bar_dict[context.s1].close\n",
    "\n",
    "    if prices[-1]<WVAP_1 and cur_position>0:\n",
    "        order_target_value(context.s1, 0)\n",
    "\n",
    "    if prices[-2]<WVAP_2 and prices[-1]>WVAP_1:\n",
    "        order_shares(context.s1, shares)\n",
    "\"\"\"\n",
    "\n",
    "config = {\n",
    "  \"base\": {\n",
    "    \"start_date\": \"2007-01-01\",\n",
    "    \"end_date\": \"2017-05-01\",\n",
    "    \"securities\": ['stock'],\n",
    "    \"stock_starting_cash\": 100000,\n",
    "    \"benchmark\": \"000300.XSHG\"\n",
    "#     \"strategy_file_path\": os.path.abspath(__file__)\n",
    "  },\n",
    "  \"extra\": {\n",
    "    \"log_level\": \"verbose\",\n",
    "  },\n",
    "  \"mod\": {\n",
    "    \"sys_analyser\": {\n",
    "      \"enabled\": True,\n",
    "      \"plot\": True\n",
    "    }\n",
    "  }\n",
    "}\n",
    "\n",
    "# 您可以指定您要传递的参数\n",
    "run_code(code, config)"
   ]
  }
 ],
 "metadata": {
  "kernelspec": {
   "display_name": "Python 2",
   "language": "python",
   "name": "python2"
  },
  "language_info": {
   "codemirror_mode": {
    "name": "ipython",
    "version": 2
   },
   "file_extension": ".py",
   "mimetype": "text/x-python",
   "name": "python",
   "nbconvert_exporter": "python",
   "pygments_lexer": "ipython2",
   "version": "2.7.13"
  }
 },
 "nbformat": 4,
 "nbformat_minor": 2
}
