{
 "cells": [
  {
   "cell_type": "markdown",
   "metadata": {},
   "source": [
    "## 4. Donchian_Strategies\n",
    "\n",
    "Buy when today's high > high of the past 40 days\n",
    "\n",
    "Sell short when today's low < low of the past 40 days\n",
    "\n",
    "Exit longs when today's low < low of the past 20 days\n",
    "\n",
    "Exit shorts when today's high > high of the past 20 days"
   ]
  },
  {
   "cell_type": "code",
   "execution_count": 1,
   "metadata": {
    "collapsed": true
   },
   "outputs": [],
   "source": [
    "#coding=utf-8\n",
    "# run_code_demo\n",
    "from rqalpha import run_code\n",
    "\n",
    "code = \"\"\"\n",
    "import rqalpha\n",
    "from rqalpha.api import *\n",
    "import talib\n",
    "import numpy as np\n",
    "import os\n",
    "\n",
    "def init(context):\n",
    "    context.s1 = \"000001.XSHE\"\n",
    "    context.UPPERIOD = 40\n",
    "    context.DOWNPERIOD = 20\n",
    "    context.stoplossmultipler= 0.90 #止损 乘数\n",
    "    context.takepofitmultipler= 4 #止盈 乘数\n",
    "\n",
    "\n",
    "def handle_bar(context, bar_dict):\n",
    "    stop_loss(context, bar_dict)\n",
    "    prices = history_bars(context.s1, context.LONGPERIOD+1, '1d', 'close')\n",
    "    volume = history_bars(context.s1, context.LONGPERIOD+1, '1d', 'volume')\n",
    "\n",
    "    if len(prices)>context.LONGPERIOD:\n",
    "        prices = history_bars(context.s1, context.UPPERIOD+2, '1d', 'close')\n",
    "        high = history_bars(context.s1, context.UPPERIOD+2, '1d', 'high')\n",
    "        low = history_bars(context.s1, context.DOWNPERIOD+2, '1d', 'low')\n",
    "\n",
    "    if len(prices) > 41:\n",
    "        upperband = ta.MAX(high, context.UPPERIOD)\n",
    "        lowerband = ta.MIN(low, context.DOWNPERIOD)\n",
    "\n",
    "        if bar_dict[context.s1].last < lowerband[-2] and prices[-2] > lowerband[-2] and cur_position > 0:\n",
    "            order_shares(context.s1, 0)\n",
    "        if bar_dict[context.s1].last > upperband[-2] and prices[-2] < upperband[-2] and cur_position == 0:\n",
    "            order_target_value(context.s1, shares)\n",
    "\n",
    "def stop_loss(context,bar_dict):\n",
    "    for stock in context.portfolio.positions:\n",
    "        if bar_dict[stock].last<context.portfolio.positions[stock].avg_price*context.stoplossmultipler:# 现价低于 原价一定比例\n",
    "            order_target_percent(stock,0)\n",
    "        elif bar_dict[stock].last>context.portfolio.positions[stock].avg_price*context.takepofitmultipler:# 现价高于原价一定比例\n",
    "            order_target_percent(stock,0)\n",
    "\n",
    "\"\"\"\n",
    "\n",
    "config = {\n",
    "  \"base\": {\n",
    "    \"start_date\": \"2000-06-01\",\n",
    "    \"end_date\": \"2016-12-01\",\n",
    "    \"securities\": ['stock'],\n",
    "    \"stock_starting_cash\": 1000000,\n",
    "    \"benchmark\": \"000300.XSHG\"\n",
    "#     \"strategy_file_path\": os.path.abspath(__file__)\n",
    "  },\n",
    "  \"extra\": {\n",
    "    \"log_level\": \"verbose\",\n",
    "  },\n",
    "  \"mod\": {\n",
    "    \"sys_analyser\": {\n",
    "      \"enabled\": True,\n",
    "      \"plot\": True\n",
    "    }\n",
    "  }\n",
    "}\n",
    "\n",
    "# 您可以指定您要传递的参数\n",
    "run_code(code, config)"
   ]
  }
 ],
 "metadata": {
  "kernelspec": {
   "display_name": "Python 2",
   "language": "python",
   "name": "python2"
  },
  "language_info": {
   "codemirror_mode": {
    "name": "ipython",
    "version": 2
   },
   "file_extension": ".py",
   "mimetype": "text/x-python",
   "name": "python",
   "nbconvert_exporter": "python",
   "pygments_lexer": "ipython2",
   "version": "2.7.13"
  }
 },
 "nbformat": 4,
 "nbformat_minor": 2
}
