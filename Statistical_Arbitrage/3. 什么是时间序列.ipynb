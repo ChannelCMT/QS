{
 "cells": [
  {
   "cell_type": "markdown",
   "metadata": {},
   "source": [
    "# 3. 什么是时间序列\n",
    "*历史数据预测未来*"
   ]
  },
  {
   "cell_type": "markdown",
   "metadata": {},
   "source": [
    "## 目录\n",
    "- 什么是时间序列？\n",
    "- 时间序列主要有哪些模型?\n",
    "- 在金融数据中时间序列改如何使用？\n",
    "- 时间序列建模有什么过程?"
   ]
  },
  {
   "cell_type": "markdown",
   "metadata": {},
   "source": [
    "## 什么是时间序列？\n",
    "时间序列数据记录的是同一个个体的某种也做随着时间的推移不断发展的过程，比如股票、期货、外汇的日收盘价等。"
   ]
  }
 ],
 "metadata": {
  "kernelspec": {
   "display_name": "Python 2",
   "language": "python",
   "name": "python2"
  },
  "language_info": {
   "codemirror_mode": {
    "name": "ipython",
    "version": 2
   },
   "file_extension": ".py",
   "mimetype": "text/x-python",
   "name": "python",
   "nbconvert_exporter": "python",
   "pygments_lexer": "ipython2",
   "version": "2.7.13"
  }
 },
 "nbformat": 4,
 "nbformat_minor": 2
}
