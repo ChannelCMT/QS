{
 "cells": [
  {
   "cell_type": "markdown",
   "metadata": {},
   "source": [
    "## 9. 市场宽度\n",
    "*对市场内股票数据进行统计，观察样本变化。*"
   ]
  },
  {
   "cell_type": "markdown",
   "metadata": {},
   "source": [
    "## 目录\n",
    "1. 什么是市场宽度？\n",
    "2. 怎么计算市场宽度？\n",
    "3. 如何用图形展示市场宽度？\n",
    "4. 如何用市场宽度来编写策略？"
   ]
  },
  {
   "cell_type": "markdown",
   "metadata": {},
   "source": [
    "## 什么是市场宽度？\n",
    "市场宽度指标指某一日收盘时，显示某指数组合的股票的上涨数量与下跌数量的比率，有比较准确预测大盘行情的功能。"
   ]
  },
  {
   "cell_type": "markdown",
   "metadata": {},
   "source": [
    "## 怎么计算市场宽度？\n",
    "\n",
    "### 1. Advance & Decline Percent (Participation)\n",
    "\n",
    "$\\frac{(Advance-Decline)}{Total}$\n",
    "\n",
    "### 2. High & Low Percent (Leadership)\n",
    "\n",
    "$\\frac{(High-Low)}{Total}$\n",
    "\n",
    "### 3. MA50_up & MA50_down Percent (Trend)\n",
    "\n",
    "$\\frac{(MA50_{up}-MA50_{down})}{Total}$"
   ]
  },
  {
   "cell_type": "markdown",
   "metadata": {},
   "source": [
    "## 如何用图形展示市场宽度？"
   ]
  },
  {
   "cell_type": "code",
   "execution_count": 1,
   "metadata": {
    "collapsed": false
   },
   "outputs": [
    {
     "ename": "RemoteDataError",
     "evalue": "Unable to read URL: http://ichart.finance.yahoo.com/table.csv?a=11&ignore=.csv&s=0001.hk&b=1&e=2&d=5&g=d&f=2017&c=2016",
     "output_type": "error",
     "traceback": [
      "\u001b[1;31m---------------------------------------------------------------------------\u001b[0m",
      "\u001b[1;31mRemoteDataError\u001b[0m                           Traceback (most recent call last)",
      "\u001b[1;32m<ipython-input-1-10f212cd1b8d>\u001b[0m in \u001b[0;36m<module>\u001b[1;34m()\u001b[0m\n\u001b[0;32m     14\u001b[0m \u001b[0mdict\u001b[0m \u001b[1;33m=\u001b[0m \u001b[1;33m{\u001b[0m\u001b[1;33m}\u001b[0m\u001b[1;33m\u001b[0m\u001b[0m\n\u001b[0;32m     15\u001b[0m \u001b[1;32mfor\u001b[0m \u001b[0ms\u001b[0m \u001b[1;32min\u001b[0m \u001b[0mStockList\u001b[0m\u001b[1;33m:\u001b[0m\u001b[1;33m\u001b[0m\u001b[0m\n\u001b[1;32m---> 16\u001b[1;33m     \u001b[0mstock\u001b[0m \u001b[1;33m=\u001b[0m \u001b[0mweb\u001b[0m\u001b[1;33m.\u001b[0m\u001b[0mDataReader\u001b[0m\u001b[1;33m(\u001b[0m\u001b[0ms\u001b[0m\u001b[1;33m,\u001b[0m \u001b[1;34m'yahoo'\u001b[0m\u001b[1;33m,\u001b[0m \u001b[0mstart\u001b[0m\u001b[1;33m)\u001b[0m\u001b[1;33m\u001b[0m\u001b[0m\n\u001b[0m\u001b[0;32m     17\u001b[0m     \u001b[0mdict\u001b[0m\u001b[1;33m[\u001b[0m\u001b[0ms\u001b[0m\u001b[1;33m]\u001b[0m \u001b[1;33m=\u001b[0m \u001b[0mstock\u001b[0m\u001b[1;33m\u001b[0m\u001b[0m\n\u001b[0;32m     18\u001b[0m \u001b[1;33m\u001b[0m\u001b[0m\n",
      "\u001b[1;32mD:\\ProgramData\\Anaconda2\\lib\\site-packages\\pandas_datareader\\data.pyc\u001b[0m in \u001b[0;36mDataReader\u001b[1;34m(name, data_source, start, end, retry_count, pause, session, access_key)\u001b[0m\n\u001b[0;32m    114\u001b[0m                                 \u001b[0madjust_price\u001b[0m\u001b[1;33m=\u001b[0m\u001b[0mFalse\u001b[0m\u001b[1;33m,\u001b[0m \u001b[0mchunksize\u001b[0m\u001b[1;33m=\u001b[0m\u001b[1;36m25\u001b[0m\u001b[1;33m,\u001b[0m\u001b[1;33m\u001b[0m\u001b[0m\n\u001b[0;32m    115\u001b[0m                                 \u001b[0mretry_count\u001b[0m\u001b[1;33m=\u001b[0m\u001b[0mretry_count\u001b[0m\u001b[1;33m,\u001b[0m \u001b[0mpause\u001b[0m\u001b[1;33m=\u001b[0m\u001b[0mpause\u001b[0m\u001b[1;33m,\u001b[0m\u001b[1;33m\u001b[0m\u001b[0m\n\u001b[1;32m--> 116\u001b[1;33m                                 session=session).read()\n\u001b[0m\u001b[0;32m    117\u001b[0m \u001b[1;33m\u001b[0m\u001b[0m\n\u001b[0;32m    118\u001b[0m     \u001b[1;32melif\u001b[0m \u001b[0mdata_source\u001b[0m \u001b[1;33m==\u001b[0m \u001b[1;34m\"yahoo-actions\"\u001b[0m\u001b[1;33m:\u001b[0m\u001b[1;33m\u001b[0m\u001b[0m\n",
      "\u001b[1;32mD:\\ProgramData\\Anaconda2\\lib\\site-packages\\pandas_datareader\\yahoo\\daily.pyc\u001b[0m in \u001b[0;36mread\u001b[1;34m(self)\u001b[0m\n\u001b[0;32m     74\u001b[0m     \u001b[1;32mdef\u001b[0m \u001b[0mread\u001b[0m\u001b[1;33m(\u001b[0m\u001b[0mself\u001b[0m\u001b[1;33m)\u001b[0m\u001b[1;33m:\u001b[0m\u001b[1;33m\u001b[0m\u001b[0m\n\u001b[0;32m     75\u001b[0m         \u001b[1;34m\"\"\" read one data from specified URL \"\"\"\u001b[0m\u001b[1;33m\u001b[0m\u001b[0m\n\u001b[1;32m---> 76\u001b[1;33m         \u001b[0mdf\u001b[0m \u001b[1;33m=\u001b[0m \u001b[0msuper\u001b[0m\u001b[1;33m(\u001b[0m\u001b[0mYahooDailyReader\u001b[0m\u001b[1;33m,\u001b[0m \u001b[0mself\u001b[0m\u001b[1;33m)\u001b[0m\u001b[1;33m.\u001b[0m\u001b[0mread\u001b[0m\u001b[1;33m(\u001b[0m\u001b[1;33m)\u001b[0m\u001b[1;33m\u001b[0m\u001b[0m\n\u001b[0m\u001b[0;32m     77\u001b[0m         \u001b[1;32mif\u001b[0m \u001b[0mself\u001b[0m\u001b[1;33m.\u001b[0m\u001b[0mret_index\u001b[0m\u001b[1;33m:\u001b[0m\u001b[1;33m\u001b[0m\u001b[0m\n\u001b[0;32m     78\u001b[0m             \u001b[0mdf\u001b[0m\u001b[1;33m[\u001b[0m\u001b[1;34m'Ret_Index'\u001b[0m\u001b[1;33m]\u001b[0m \u001b[1;33m=\u001b[0m \u001b[0m_calc_return_index\u001b[0m\u001b[1;33m(\u001b[0m\u001b[0mdf\u001b[0m\u001b[1;33m[\u001b[0m\u001b[1;34m'Adj Close'\u001b[0m\u001b[1;33m]\u001b[0m\u001b[1;33m)\u001b[0m\u001b[1;33m\u001b[0m\u001b[0m\n",
      "\u001b[1;32mD:\\ProgramData\\Anaconda2\\lib\\site-packages\\pandas_datareader\\base.pyc\u001b[0m in \u001b[0;36mread\u001b[1;34m(self)\u001b[0m\n\u001b[0;32m    153\u001b[0m         \u001b[1;31m# If a single symbol, (e.g., 'GOOG')\u001b[0m\u001b[1;33m\u001b[0m\u001b[1;33m\u001b[0m\u001b[0m\n\u001b[0;32m    154\u001b[0m         \u001b[1;32mif\u001b[0m \u001b[0misinstance\u001b[0m\u001b[1;33m(\u001b[0m\u001b[0mself\u001b[0m\u001b[1;33m.\u001b[0m\u001b[0msymbols\u001b[0m\u001b[1;33m,\u001b[0m \u001b[1;33m(\u001b[0m\u001b[0mcompat\u001b[0m\u001b[1;33m.\u001b[0m\u001b[0mstring_types\u001b[0m\u001b[1;33m,\u001b[0m \u001b[0mint\u001b[0m\u001b[1;33m)\u001b[0m\u001b[1;33m)\u001b[0m\u001b[1;33m:\u001b[0m\u001b[1;33m\u001b[0m\u001b[0m\n\u001b[1;32m--> 155\u001b[1;33m             \u001b[0mdf\u001b[0m \u001b[1;33m=\u001b[0m \u001b[0mself\u001b[0m\u001b[1;33m.\u001b[0m\u001b[0m_read_one_data\u001b[0m\u001b[1;33m(\u001b[0m\u001b[0mself\u001b[0m\u001b[1;33m.\u001b[0m\u001b[0murl\u001b[0m\u001b[1;33m,\u001b[0m \u001b[0mparams\u001b[0m\u001b[1;33m=\u001b[0m\u001b[0mself\u001b[0m\u001b[1;33m.\u001b[0m\u001b[0m_get_params\u001b[0m\u001b[1;33m(\u001b[0m\u001b[0mself\u001b[0m\u001b[1;33m.\u001b[0m\u001b[0msymbols\u001b[0m\u001b[1;33m)\u001b[0m\u001b[1;33m)\u001b[0m\u001b[1;33m\u001b[0m\u001b[0m\n\u001b[0m\u001b[0;32m    156\u001b[0m         \u001b[1;31m# Or multiple symbols, (e.g., ['GOOG', 'AAPL', 'MSFT'])\u001b[0m\u001b[1;33m\u001b[0m\u001b[1;33m\u001b[0m\u001b[0m\n\u001b[0;32m    157\u001b[0m         \u001b[1;32melif\u001b[0m \u001b[0misinstance\u001b[0m\u001b[1;33m(\u001b[0m\u001b[0mself\u001b[0m\u001b[1;33m.\u001b[0m\u001b[0msymbols\u001b[0m\u001b[1;33m,\u001b[0m \u001b[0mDataFrame\u001b[0m\u001b[1;33m)\u001b[0m\u001b[1;33m:\u001b[0m\u001b[1;33m\u001b[0m\u001b[0m\n",
      "\u001b[1;32mD:\\ProgramData\\Anaconda2\\lib\\site-packages\\pandas_datareader\\base.pyc\u001b[0m in \u001b[0;36m_read_one_data\u001b[1;34m(self, url, params)\u001b[0m\n\u001b[0;32m     72\u001b[0m         \u001b[1;34m\"\"\" read one data from specified URL \"\"\"\u001b[0m\u001b[1;33m\u001b[0m\u001b[0m\n\u001b[0;32m     73\u001b[0m         \u001b[1;32mif\u001b[0m \u001b[0mself\u001b[0m\u001b[1;33m.\u001b[0m\u001b[0m_format\u001b[0m \u001b[1;33m==\u001b[0m \u001b[1;34m'string'\u001b[0m\u001b[1;33m:\u001b[0m\u001b[1;33m\u001b[0m\u001b[0m\n\u001b[1;32m---> 74\u001b[1;33m             \u001b[0mout\u001b[0m \u001b[1;33m=\u001b[0m \u001b[0mself\u001b[0m\u001b[1;33m.\u001b[0m\u001b[0m_read_url_as_StringIO\u001b[0m\u001b[1;33m(\u001b[0m\u001b[0murl\u001b[0m\u001b[1;33m,\u001b[0m \u001b[0mparams\u001b[0m\u001b[1;33m=\u001b[0m\u001b[0mparams\u001b[0m\u001b[1;33m)\u001b[0m\u001b[1;33m\u001b[0m\u001b[0m\n\u001b[0m\u001b[0;32m     75\u001b[0m         \u001b[1;32melif\u001b[0m \u001b[0mself\u001b[0m\u001b[1;33m.\u001b[0m\u001b[0m_format\u001b[0m \u001b[1;33m==\u001b[0m \u001b[1;34m'json'\u001b[0m\u001b[1;33m:\u001b[0m\u001b[1;33m\u001b[0m\u001b[0m\n\u001b[0;32m     76\u001b[0m             \u001b[0mout\u001b[0m \u001b[1;33m=\u001b[0m \u001b[0mself\u001b[0m\u001b[1;33m.\u001b[0m\u001b[0m_get_response\u001b[0m\u001b[1;33m(\u001b[0m\u001b[0murl\u001b[0m\u001b[1;33m,\u001b[0m \u001b[0mparams\u001b[0m\u001b[1;33m=\u001b[0m\u001b[0mparams\u001b[0m\u001b[1;33m)\u001b[0m\u001b[1;33m.\u001b[0m\u001b[0mjson\u001b[0m\u001b[1;33m(\u001b[0m\u001b[1;33m)\u001b[0m\u001b[1;33m\u001b[0m\u001b[0m\n",
      "\u001b[1;32mD:\\ProgramData\\Anaconda2\\lib\\site-packages\\pandas_datareader\\base.pyc\u001b[0m in \u001b[0;36m_read_url_as_StringIO\u001b[1;34m(self, url, params)\u001b[0m\n\u001b[0;32m     83\u001b[0m         \u001b[0mOpen\u001b[0m \u001b[0murl\u001b[0m \u001b[1;33m(\u001b[0m\u001b[1;32mand\u001b[0m \u001b[0mretry\u001b[0m\u001b[1;33m)\u001b[0m\u001b[1;33m\u001b[0m\u001b[0m\n\u001b[0;32m     84\u001b[0m         \"\"\"\n\u001b[1;32m---> 85\u001b[1;33m         \u001b[0mresponse\u001b[0m \u001b[1;33m=\u001b[0m \u001b[0mself\u001b[0m\u001b[1;33m.\u001b[0m\u001b[0m_get_response\u001b[0m\u001b[1;33m(\u001b[0m\u001b[0murl\u001b[0m\u001b[1;33m,\u001b[0m \u001b[0mparams\u001b[0m\u001b[1;33m=\u001b[0m\u001b[0mparams\u001b[0m\u001b[1;33m)\u001b[0m\u001b[1;33m\u001b[0m\u001b[0m\n\u001b[0m\u001b[0;32m     86\u001b[0m         \u001b[0mtext\u001b[0m \u001b[1;33m=\u001b[0m \u001b[0mself\u001b[0m\u001b[1;33m.\u001b[0m\u001b[0m_sanitize_response\u001b[0m\u001b[1;33m(\u001b[0m\u001b[0mresponse\u001b[0m\u001b[1;33m)\u001b[0m\u001b[1;33m\u001b[0m\u001b[0m\n\u001b[0;32m     87\u001b[0m         \u001b[0mout\u001b[0m \u001b[1;33m=\u001b[0m \u001b[0mStringIO\u001b[0m\u001b[1;33m(\u001b[0m\u001b[1;33m)\u001b[0m\u001b[1;33m\u001b[0m\u001b[0m\n",
      "\u001b[1;32mD:\\ProgramData\\Anaconda2\\lib\\site-packages\\pandas_datareader\\base.pyc\u001b[0m in \u001b[0;36m_get_response\u001b[1;34m(self, url, params)\u001b[0m\n\u001b[0;32m    118\u001b[0m         \u001b[1;32mif\u001b[0m \u001b[0mparams\u001b[0m \u001b[1;32mis\u001b[0m \u001b[1;32mnot\u001b[0m \u001b[0mNone\u001b[0m \u001b[1;32mand\u001b[0m \u001b[0mlen\u001b[0m\u001b[1;33m(\u001b[0m\u001b[0mparams\u001b[0m\u001b[1;33m)\u001b[0m \u001b[1;33m>\u001b[0m \u001b[1;36m0\u001b[0m\u001b[1;33m:\u001b[0m\u001b[1;33m\u001b[0m\u001b[0m\n\u001b[0;32m    119\u001b[0m             \u001b[0murl\u001b[0m \u001b[1;33m=\u001b[0m \u001b[0murl\u001b[0m \u001b[1;33m+\u001b[0m \u001b[1;34m\"?\"\u001b[0m \u001b[1;33m+\u001b[0m \u001b[0murlencode\u001b[0m\u001b[1;33m(\u001b[0m\u001b[0mparams\u001b[0m\u001b[1;33m)\u001b[0m\u001b[1;33m\u001b[0m\u001b[0m\n\u001b[1;32m--> 120\u001b[1;33m         \u001b[1;32mraise\u001b[0m \u001b[0mRemoteDataError\u001b[0m\u001b[1;33m(\u001b[0m\u001b[1;34m'Unable to read URL: {0}'\u001b[0m\u001b[1;33m.\u001b[0m\u001b[0mformat\u001b[0m\u001b[1;33m(\u001b[0m\u001b[0murl\u001b[0m\u001b[1;33m)\u001b[0m\u001b[1;33m)\u001b[0m\u001b[1;33m\u001b[0m\u001b[0m\n\u001b[0m\u001b[0;32m    121\u001b[0m \u001b[1;33m\u001b[0m\u001b[0m\n\u001b[0;32m    122\u001b[0m     \u001b[1;32mdef\u001b[0m \u001b[0m_read_lines\u001b[0m\u001b[1;33m(\u001b[0m\u001b[0mself\u001b[0m\u001b[1;33m,\u001b[0m \u001b[0mout\u001b[0m\u001b[1;33m)\u001b[0m\u001b[1;33m:\u001b[0m\u001b[1;33m\u001b[0m\u001b[0m\n",
      "\u001b[1;31mRemoteDataError\u001b[0m: Unable to read URL: http://ichart.finance.yahoo.com/table.csv?a=11&ignore=.csv&s=0001.hk&b=1&e=2&d=5&g=d&f=2017&c=2016"
     ]
    }
   ],
   "source": [
    "#ADP\n",
    "import pandas as pd\n",
    "import numpy as np\n",
    "import pandas_datareader.data as web # 需要安装 pip install pandas_datareader\n",
    "import datetime\n",
    "\n",
    "start = datetime.datetime(2016, 12, 1)\n",
    "# end = datetime.datetime(2016,6,30)\n",
    "\n",
    "StockList = ['0001.hk',  '0002.hk', '0003.hk', '0004.hk', '0006.hk', '0011.hk', '0012.hk', '0016.hk',\n",
    "             '0017.hk', '0019.hk', '0023.hk', '0027.hk', '0066.hk', '0083.hk', '0101.hk', '0135.hk', '0144.hk',\n",
    "             '0151.hk', '0175.hk', '0267.hk', '0293.hk', '0386.hk', '0388.hk', '0688.hk', '0700.hk', '0762.hk',\n",
    "             '0823.hk', '0836.hk', '0867.hk']\n",
    "dict = {}\n",
    "for s in StockList:\n",
    "    stock = web.DataReader(s, 'yahoo', start)\n",
    "    dict[s] = stock\n",
    "\n",
    "pn = pd.Panel(dict)\n",
    "\n",
    "print pn"
   ]
  },
  {
   "cell_type": "code",
   "execution_count": 1,
   "metadata": {
    "collapsed": false
   },
   "outputs": [
    {
     "ename": "NameError",
     "evalue": "name 'pn' is not defined",
     "output_type": "error",
     "traceback": [
      "\u001b[0;31m---------------------------------------------------------------------------\u001b[0m",
      "\u001b[0;31mNameError\u001b[0m                                 Traceback (most recent call last)",
      "\u001b[0;32m<ipython-input-1-9c4e8cce8be1>\u001b[0m in \u001b[0;36m<module>\u001b[0;34m()\u001b[0m\n\u001b[0;32m----> 1\u001b[0;31m \u001b[0mdata\u001b[0m \u001b[1;33m=\u001b[0m \u001b[0mpn\u001b[0m\u001b[1;33m.\u001b[0m\u001b[0mminor_xs\u001b[0m\u001b[1;33m(\u001b[0m\u001b[1;34m'Adj Close'\u001b[0m\u001b[1;33m)\u001b[0m\u001b[1;33m.\u001b[0m\u001b[0mpct_change\u001b[0m\u001b[1;33m(\u001b[0m\u001b[1;33m)\u001b[0m\u001b[1;33m\u001b[0m\u001b[0m\n\u001b[0m\u001b[1;32m      2\u001b[0m \u001b[0mcond1\u001b[0m \u001b[1;33m=\u001b[0m \u001b[0mdata\u001b[0m\u001b[1;33m>\u001b[0m\u001b[1;36m0\u001b[0m\u001b[1;33m\u001b[0m\u001b[0m\n\u001b[1;32m      3\u001b[0m \u001b[0mcond2\u001b[0m \u001b[1;33m=\u001b[0m \u001b[0mdata\u001b[0m\u001b[1;33m<\u001b[0m\u001b[1;36m0\u001b[0m\u001b[1;33m\u001b[0m\u001b[0m\n\u001b[1;32m      4\u001b[0m \u001b[0mdata\u001b[0m\u001b[1;33m[\u001b[0m\u001b[0mcond1\u001b[0m\u001b[1;33m]\u001b[0m\u001b[1;33m=\u001b[0m\u001b[1;36m1\u001b[0m\u001b[1;33m\u001b[0m\u001b[0m\n\u001b[1;32m      5\u001b[0m \u001b[0mdata\u001b[0m\u001b[1;33m[\u001b[0m\u001b[0mcond2\u001b[0m\u001b[1;33m]\u001b[0m\u001b[1;33m=\u001b[0m\u001b[1;33m-\u001b[0m\u001b[1;36m1\u001b[0m\u001b[1;33m\u001b[0m\u001b[0m\n",
      "\u001b[0;31mNameError\u001b[0m: name 'pn' is not defined"
     ]
    }
   ],
   "source": [
    "data = pn.minor_xs('Adj Close').pct_change()\n",
    "cond1 = data>0\n",
    "cond2 = data<0\n",
    "data[cond1]=1\n",
    "data[cond2]=-1\n",
    "\n",
    "def sum(row):\n",
    "    row=row[1]\n",
    "    return row.sum()\n",
    "\n",
    "data['AD'] = map(sum, data.iterrows())\n",
    "data['ADP'] = data.AD/len(StockList)\n",
    "print data.head(10)"
   ]
  },
  {
   "cell_type": "code",
   "execution_count": 22,
   "metadata": {
    "collapsed": false
   },
   "outputs": [
    {
     "name": "stdout",
     "output_type": "stream",
     "text": [
      "Date\n",
      "2016-01-01    0.0\n",
      "2016-01-04    0.0\n",
      "2016-01-05    0.0\n",
      "2016-01-06    0.0\n",
      "2016-01-07    0.0\n",
      "2016-01-08    0.0\n",
      "2016-01-11    0.0\n",
      "2016-01-12    0.0\n",
      "2016-01-13    1.0\n",
      "2016-01-14    2.0\n",
      "Freq: B, Name: High, dtype: float64\n"
     ]
    }
   ],
   "source": [
    "#HLP\n",
    "#Highest\n",
    "high = pn.minor_xs('High')\n",
    "\n",
    "def recent_high(series, window=5):\n",
    "    return series.rolling(window).max()\n",
    "\n",
    "high_dict = {}\n",
    "for name, candle in high.iteritems():\n",
    "    HLP = recent_high(candle)\n",
    "    high_dict[name] = HLP\n",
    "\n",
    "highest = pd.DataFrame(high_dict)\n",
    "cond_h = high>=highest\n",
    "cond_no = high<highest\n",
    "highest[cond_h]=1\n",
    "highest[cond_no]=0\n",
    "\n",
    "highest = pd.DataFrame(high_dict)\n",
    "cond_h = high>=highest\n",
    "cond_no = high<highest\n",
    "highest[cond_h]=1\n",
    "highest[cond_no]=0\n",
    "\n",
    "data['High'] = map(sum, highest.iterrows())\n",
    "\n",
    "print data.High.head(10)"
   ]
  },
  {
   "cell_type": "code",
   "execution_count": 23,
   "metadata": {
    "collapsed": false
   },
   "outputs": [
    {
     "name": "stdout",
     "output_type": "stream",
     "text": [
      "Date\n",
      "2016-01-01    0.000000\n",
      "2016-01-04    0.000000\n",
      "2016-01-05    0.000000\n",
      "2016-01-06    0.000000\n",
      "2016-01-07   -0.931034\n",
      "2016-01-08   -0.551724\n",
      "2016-01-11   -0.896552\n",
      "2016-01-12   -0.655172\n",
      "2016-01-13   -0.275862\n",
      "2016-01-14   -0.655172\n",
      "Freq: B, Name: HLP, dtype: float64\n"
     ]
    }
   ],
   "source": [
    "#Lowest\n",
    "low = pn.minor_xs('Low')\n",
    "\n",
    "def recent_low(series, window=5):\n",
    "    return series.rolling(window).min()\n",
    "\n",
    "low_dict = {}\n",
    "for name, candle in low.iteritems():\n",
    "    HLP = recent_low(candle)\n",
    "    low_dict[name] = HLP\n",
    "    \n",
    "lowest = pd.DataFrame(low_dict)\n",
    "cond_l = low<=lowest\n",
    "cond_no = low>lowest\n",
    "lowest[cond_l]=1\n",
    "lowest[cond_no]=0\n",
    "\n",
    "data['Low'] = map(sum, lowest.iterrows())\n",
    "data['HLP'] = (data.High-data.Low)/len(StockList)\n",
    "\n",
    "print data.HLP.head(10)"
   ]
  },
  {
   "cell_type": "code",
   "execution_count": 24,
   "metadata": {
    "collapsed": false
   },
   "outputs": [
    {
     "name": "stdout",
     "output_type": "stream",
     "text": [
      "                 ADP       HLP       MAP           HSI\n",
      "Date                                                  \n",
      "2016-01-01  0.000000  0.000000  0.000000           NaN\n",
      "2016-01-04 -0.965517  0.000000  0.000000  21327.119141\n",
      "2016-01-05  0.000000  0.000000  0.000000  21188.720703\n",
      "2016-01-06 -0.689655  0.000000  0.000000  20980.810547\n",
      "2016-01-07 -1.000000 -0.931034 -1.000000  20333.339844\n",
      "2016-01-08 -0.172414 -0.551724 -1.000000  20453.710938\n",
      "2016-01-11 -1.000000 -0.896552 -1.000000  19888.500000\n",
      "2016-01-12 -0.689655 -0.655172 -1.000000  19711.759766\n",
      "2016-01-13  0.551724 -0.275862 -0.517241  19934.880859\n",
      "2016-01-14 -0.413793 -0.655172 -0.517241  19817.410156\n",
      "2016-01-15 -0.758621 -0.448276 -0.655172  19520.769531\n",
      "2016-01-18 -0.689655 -0.793103 -0.862069  19237.449219\n",
      "2016-01-19  0.689655 -0.206897 -0.034483  19635.810547\n",
      "2016-01-20 -1.000000 -0.862069 -0.862069  18886.300781\n",
      "2016-01-21 -0.862069 -0.793103 -0.862069  18542.150391\n",
      "2016-01-22  0.931034 -0.137931 -0.517241  19080.509766\n",
      "2016-01-25  0.448276  0.000000  0.034483  19340.140625\n",
      "2016-01-26 -0.862069 -0.275862 -0.310345  18860.800781\n",
      "2016-01-27  0.241379 -0.103448 -0.034483  19052.449219\n",
      "2016-01-28  0.344828  0.000000  0.103448  19195.830078\n",
      "2016-01-29  0.724138  0.379310  0.793103  19683.109375\n",
      "2016-02-01 -0.344828  0.448276  0.448276  19595.500000\n",
      "2016-02-02 -0.137931  0.103448  0.379310  19446.839844\n",
      "2016-02-03 -0.827586 -0.310345 -0.655172  18991.589844\n",
      "2016-02-04  0.586207  0.103448 -0.103448  19183.089844\n",
      "2016-02-05  0.413793  0.137931  0.310345  19288.169922\n",
      "2016-02-08  0.000000  0.000000  0.586207           NaN\n",
      "2016-02-09  0.000000  0.000000  0.586207           NaN\n",
      "2016-02-10  0.000000  0.000000  0.448276           NaN\n",
      "2016-02-11 -0.862069 -0.862069 -0.862069  18545.800781\n",
      "...              ...       ...       ...           ...\n",
      "2016-05-20  0.620690  0.206897  0.241379  19852.199219\n",
      "2016-05-23 -0.448276 -0.137931 -0.172414  19809.029297\n",
      "2016-05-24 -0.103448 -0.103448  0.103448  19830.429688\n",
      "2016-05-25  0.931034  0.655172  0.862069  20368.050781\n",
      "2016-05-26  0.103448  0.310345  0.862069  20397.109375\n",
      "2016-05-27  0.344828  0.448276  0.793103  20576.769531\n",
      "2016-05-30  0.620690  0.586207  0.724138  20629.390625\n",
      "2016-05-31  0.620690  0.758621  0.724138  20815.089844\n",
      "2016-06-01  0.103448  0.172414  0.448276  20760.980469\n",
      "2016-06-02  0.310345  0.448276  0.586207  20859.220703\n",
      "2016-06-03  0.758621  0.586207  0.655172  20947.240234\n",
      "2016-06-06  0.620690  0.517241  0.655172  21030.220703\n",
      "2016-06-07  0.724138  0.758621  0.931034  21328.240234\n",
      "2016-06-08  0.172414  0.379310  0.862069  21297.880859\n",
      "2016-06-09  0.000000  0.000000  0.793103           NaN\n",
      "2016-06-10 -0.448276  0.103448 -0.379310  21042.640625\n",
      "2016-06-13 -0.862069 -0.896552 -0.862069  20512.990234\n",
      "2016-06-14 -0.586207 -0.551724 -0.931034  20387.529297\n",
      "2016-06-15  0.172414 -0.689655 -0.586207  20467.519531\n",
      "2016-06-16 -0.965517 -0.689655 -1.000000  20038.419922\n",
      "2016-06-17  0.586207 -0.103448 -0.517241  20169.980469\n",
      "2016-06-20  0.896552  0.172414  0.724138  20510.199219\n",
      "2016-06-21  0.413793  0.482759  0.655172  20668.439453\n",
      "2016-06-22  0.758621  0.482759  0.931034  20795.119141\n",
      "2016-06-23  0.137931  0.551724  0.862069  20868.339844\n",
      "2016-06-24 -0.793103 -0.413793 -0.793103  20259.130859\n",
      "2016-06-27  0.172414 -0.034483 -0.586207  20227.300781\n",
      "2016-06-28 -0.310345 -0.034483 -0.448276  20172.460938\n",
      "2016-06-29  0.965517  0.379310  0.379310  20436.119141\n",
      "2016-06-30  0.827586  0.689655  1.000000  20794.369141\n",
      "\n",
      "[130 rows x 4 columns]\n"
     ]
    }
   ],
   "source": [
    "#MA50\n",
    "import talib as ta\n",
    "\n",
    "adj_close = pn.minor_xs('Adj Close')\n",
    "\n",
    "ma = pd.DataFrame({item: ta.MA(series.values, 5) for item, series in adj_close.iteritems()}, index=adj_close.index)\n",
    "cond_ma = adj_close>=ma\n",
    "cond_no = adj_close<ma\n",
    "\n",
    "ma[cond_ma] = 1\n",
    "ma[cond_no] = -1\n",
    "\n",
    "data['MA'] = map(sum, ma.iterrows())\n",
    "data['MAP'] = data.MA/len(StockList)\n",
    "\n",
    "result = pd.concat([data.ADP, data.HLP, data.MAP], axis=1)\n",
    "HSI = web.DataReader('^HSI', 'yahoo', start, end)\n",
    "result['HSI'] = HSI['Adj Close']\n",
    "\n",
    "print result"
   ]
  },
  {
   "cell_type": "code",
   "execution_count": 30,
   "metadata": {
    "collapsed": false
   },
   "outputs": [
    {
     "name": "stderr",
     "output_type": "stream",
     "text": [
      "D:\\ProgramData\\Anaconda2\\lib\\site-packages\\ipykernel\\__main__.py:6: SettingWithCopyWarning: \n",
      "A value is trying to be set on a copy of a slice from a DataFrame.\n",
      "Try using .loc[row_indexer,col_indexer] = value instead\n",
      "\n",
      "See the caveats in the documentation: http://pandas.pydata.org/pandas-docs/stable/indexing.html#indexing-view-versus-copy\n",
      "D:\\ProgramData\\Anaconda2\\lib\\site-packages\\ipykernel\\__main__.py:7: SettingWithCopyWarning: \n",
      "A value is trying to be set on a copy of a slice from a DataFrame.\n",
      "Try using .loc[row_indexer,col_indexer] = value instead\n",
      "\n",
      "See the caveats in the documentation: http://pandas.pydata.org/pandas-docs/stable/indexing.html#indexing-view-versus-copy\n"
     ]
    },
    {
     "data": {
      "image/png": "[encoded data removed]",
      "text/plain": [
       "<matplotlib.figure.Figure at 0x2b21128>"
      ]
     },
     "metadata": {},
     "output_type": "display_data"
    }
   ],
   "source": [
    "import matplotlib.pyplot as plt\n",
    "\n",
    "result = result.dropna()\n",
    "\n",
    "\n",
    "result['ADP_MAS'] = ta.abstract.MA(result, 5, price='ADP')\n",
    "result['ADP_MAL'] = ta.abstract.MA(result, 15, price='ADP')\n",
    "\n",
    "plt.subplot(2,1,1)\n",
    "plt.plot(result.HSI)\n",
    "plt.subplot(2,1,2)\n",
    "plt.bar(result.index, result.ADP)\n",
    "\n",
    "plt.plot(result.ADP_MAS, c='r', label ='ma_long')\n",
    "plt.plot(result.ADP_MAL, c='g', label ='ma_long')\n",
    "plt.legend(loc='upper left')\n",
    "\n",
    "plt.show()"
   ]
  },
  {
   "cell_type": "markdown",
   "metadata": {},
   "source": [
    "## 如何用市场宽度来编写策略？\n",
    "当均线金叉（短期大于长期均线）时候买进，死叉（短期小于长期）时卖出。"
   ]
  },
  {
   "cell_type": "code",
   "execution_count": 26,
   "metadata": {
    "collapsed": false
   },
   "outputs": [
    {
     "name": "stdout",
     "output_type": "stream",
     "text": [
      "buy_time: [Timestamp('2016-02-04 00:00:00'), Timestamp('2016-02-12 00:00:00'), Timestamp('2016-02-26 00:00:00'), Timestamp('2016-03-01 00:00:00'), Timestamp('2016-03-11 00:00:00'), Timestamp('2016-03-17 00:00:00'), Timestamp('2016-03-30 00:00:00'), Timestamp('2016-04-06 00:00:00'), Timestamp('2016-04-19 00:00:00'), Timestamp('2016-04-21 00:00:00'), Timestamp('2016-05-09 00:00:00'), Timestamp('2016-05-16 00:00:00'), Timestamp('2016-05-20 00:00:00'), Timestamp('2016-06-20 00:00:00'), Timestamp('2016-06-29 00:00:00')]\n",
      "buy_price [19183.089843999998, 18319.580077999999, 19364.150390999999, 19407.460938, 20199.599609000001, 20503.810547000001, 20803.390625, 20206.669922000001, 21436.210938, 21622.25, 20156.810547000001, 19883.949218999998, 19852.199218999998, 20510.199218999998, 20436.119140999999]\n",
      "sell_time [Timestamp('2016-02-03 00:00:00'), Timestamp('2016-02-11 00:00:00'), Timestamp('2016-02-24 00:00:00'), Timestamp('2016-02-29 00:00:00'), Timestamp('2016-03-08 00:00:00'), Timestamp('2016-03-15 00:00:00'), Timestamp('2016-03-22 00:00:00'), Timestamp('2016-04-01 00:00:00'), Timestamp('2016-04-18 00:00:00'), Timestamp('2016-04-20 00:00:00'), Timestamp('2016-04-22 00:00:00'), Timestamp('2016-05-11 00:00:00'), Timestamp('2016-05-19 00:00:00'), Timestamp('2016-06-10 00:00:00'), Timestamp('2016-06-24 00:00:00')]\n",
      "sell_price [18991.589843999998, 18545.800781000002, 19192.449218999998, 19111.929688, 20011.580077999999, 20288.769531000002, 20666.75, 20498.919922000001, 21161.5, 21236.310547000001, 21467.039062, 20055.289062, 19694.330077999999, 21042.640625, 20259.130859000001]\n"
     ]
    }
   ],
   "source": [
    "buy_time=[]\n",
    "buy_price=[]\n",
    "\n",
    "sell_time=[]\n",
    "sell_price=[]\n",
    "\n",
    "data = result.dropna()\n",
    "it = result.iterrows()\n",
    "t0, p0 = next(it)\n",
    "pos = 0\n",
    "\n",
    "for t1, p1 in it:\n",
    "    if p1.ADP_MAS > p1.ADP_MAL and p0.ADP_MAS < p0.ADP_MAL:\n",
    "        buy_time.append(t1)\n",
    "        buy_price.append(p1.HSI)\n",
    "    elif p1.ADP_MAS < p1.ADP_MAL and p0.ADP_MAS > p0.ADP_MAL:\n",
    "        sell_time.append(t1)\n",
    "        sell_price.append(p1.HSI)\n",
    "    t0, p0 = t1, p1\n",
    "\n",
    "print 'buy_time:', buy_time\n",
    "print 'buy_price', buy_price\n",
    "print 'sell_time', sell_time\n",
    "print 'sell_price', sell_price"
   ]
  },
  {
   "cell_type": "code",
   "execution_count": 27,
   "metadata": {
    "collapsed": false
   },
   "outputs": [
    {
     "data": {
      "image/png": "[encoded data removed]",
      "text/plain": [
       "<matplotlib.figure.Figure at 0xc00f7f0>"
      ]
     },
     "metadata": {},
     "output_type": "display_data"
    }
   ],
   "source": [
    "import matplotlib as mpl\n",
    "mpl.rc('xtick', labelsize=8)\n",
    "plt.plot(result['HSI'], c='b')\n",
    "plt.scatter(buy_time, buy_price, c='r', marker='^', linewidths=3)\n",
    "plt.scatter(sell_time, sell_price, c='g', marker='v', linewidths=3)\n",
    "plt.show()"
   ]
  },
  {
   "cell_type": "code",
   "execution_count": null,
   "metadata": {
    "collapsed": false
   },
   "outputs": [],
   "source": [
    "import numpy as np\n",
    "money = np.array(sell_price) - np.array(buy_price)\n",
    "money = list(money)\n",
    "money.insert(0,0)\n",
    "money = np.array(money)\n",
    "capital = money.cumsum()\n",
    "plt.plot(capital)\n",
    "plt.show()"
   ]
  }
 ],
 "metadata": {
  "kernelspec": {
   "display_name": "Python 2",
   "language": "python",
   "name": "python2"
  },
  "language_info": {
   "codemirror_mode": {
    "name": "ipython",
    "version": 2
   },
   "file_extension": ".py",
   "mimetype": "text/x-python",
   "name": "python",
   "nbconvert_exporter": "python",
   "pygments_lexer": "ipython2",
   "version": "2.7.13"
  }
 },
 "nbformat": 4,
 "nbformat_minor": 2
}
